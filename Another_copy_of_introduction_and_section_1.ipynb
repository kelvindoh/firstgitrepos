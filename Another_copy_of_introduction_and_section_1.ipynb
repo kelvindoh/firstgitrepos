{
  "nbformat": 4,
  "nbformat_minor": 0,
  "metadata": {
    "colab": {
      "provenance": [],
      "include_colab_link": true
    },
    "kernelspec": {
      "name": "python3",
      "display_name": "Python 3"
    },
    "language_info": {
      "name": "python"
    }
  },
  "cells": [
    {
      "cell_type": "markdown",
      "metadata": {
        "id": "view-in-github",
        "colab_type": "text"
      },
      "source": [
        "<a href=\"https://colab.research.google.com/github/kelvindoh/firstgitrepos/blob/master/Another_copy_of_introduction_and_section_1.ipynb\" target=\"_parent\"><img src=\"https://colab.research.google.com/assets/colab-badge.svg\" alt=\"Open In Colab\"/></a>"
      ]
    },
    {
      "cell_type": "markdown",
      "source": [
        "#Writing our first python code"
      ],
      "metadata": {
        "id": "XTdw10TG7xcq"
      }
    },
    {
      "cell_type": "code",
      "source": [
        "#we are creating a single line comments\n",
        "#we are printing the output of the variable string_variable\n",
        "string_variable = \"50\"\n",
        "print(string_variable)\n"
      ],
      "metadata": {
        "colab": {
          "base_uri": "https://localhost:8080/"
        },
        "id": "86nNbMDre3jQ",
        "outputId": "5f25ab7e-8f82-433a-c203-a7d623cdac5d"
      },
      "execution_count": null,
      "outputs": [
        {
          "output_type": "stream",
          "name": "stdout",
          "text": [
            "50\n"
          ]
        }
      ]
    },
    {
      "cell_type": "code",
      "source": [
        "\"\"\"\n",
        "we are creating a single line comments\n",
        "we are printing the output of the variable string_variable\n",
        "\n",
        "\"\"\"\n",
        "string_variable = \"50\"\n",
        "print(string_variable)"
      ],
      "metadata": {
        "id": "9FE5jQFyihEF"
      },
      "execution_count": null,
      "outputs": []
    },
    {
      "cell_type": "code",
      "source": [
        "print(type(string_variable))"
      ],
      "metadata": {
        "colab": {
          "base_uri": "https://localhost:8080/"
        },
        "id": "aUITfGCmgP1j",
        "outputId": "b8ae1db9-db5c-49c7-d3f2-05e9135325bd"
      },
      "execution_count": null,
      "outputs": [
        {
          "output_type": "stream",
          "name": "stdout",
          "text": [
            "<class 'int'>\n"
          ]
        }
      ]
    },
    {
      "cell_type": "code",
      "execution_count": null,
      "metadata": {
        "colab": {
          "base_uri": "https://localhost:8080/"
        },
        "id": "SWCEQgHT7C9n",
        "outputId": "f2a8b808-23bb-4f21-d2e5-f9cf085a8e34"
      },
      "outputs": [
        {
          "output_type": "stream",
          "name": "stdout",
          "text": [
            "Hello World\n",
            "50\n",
            "Welcome to Centroid Data\n"
          ]
        }
      ],
      "source": [
        "print(\"Hello World\")\n",
        "print(50)\n",
        "print(\"Welcome to Centroid Data\")\n"
      ]
    },
    {
      "cell_type": "markdown",
      "source": [
        "#Comments in Python\n",
        "- Single Line Comments"
      ],
      "metadata": {
        "id": "iMd-E7y78a8d"
      }
    },
    {
      "cell_type": "code",
      "source": [
        "#this line print Welcome to centroid data\n",
        "print(\"Welcome to Centriod\")\n"
      ],
      "metadata": {
        "id": "mhUhZOw_8mmx"
      },
      "execution_count": null,
      "outputs": []
    },
    {
      "cell_type": "markdown",
      "source": [
        "- Multi-line Comments"
      ],
      "metadata": {
        "id": "mpPpWyKj8vq8"
      }
    },
    {
      "cell_type": "code",
      "source": [
        "\"\"\"\n",
        "    Docstrings are pretty cool for writing longer comments\n",
        "    Or notes about the code.\n",
        "\n",
        "\"\"\"\n"
      ],
      "metadata": {
        "id": "6WpsE07a8yBW"
      },
      "execution_count": null,
      "outputs": []
    },
    {
      "cell_type": "code",
      "source": [
        "string = \"welcome to centroid data\"\n",
        "for i in string:\n",
        "\tprint(i, end='')\n"
      ],
      "metadata": {
        "colab": {
          "base_uri": "https://localhost:8080/"
        },
        "id": "oyqP203B8y-f",
        "outputId": "74a513a2-1d68-4cab-95a2-8832da2c817a"
      },
      "execution_count": null,
      "outputs": [
        {
          "output_type": "stream",
          "name": "stdout",
          "text": [
            "welcome to centroid data"
          ]
        }
      ]
    },
    {
      "cell_type": "code",
      "source": [
        "print('Centroid data is the best')"
      ],
      "metadata": {
        "colab": {
          "base_uri": "https://localhost:8080/"
        },
        "id": "vAI-rl6AEQAu",
        "outputId": "99f70db0-1e92-48f4-c817-5fca431d5bf0"
      },
      "execution_count": null,
      "outputs": [
        {
          "output_type": "stream",
          "name": "stdout",
          "text": [
            "Centroid data is the best\n"
          ]
        }
      ]
    },
    {
      "cell_type": "code",
      "source": [
        "print('avatar\\n','prison break\\n', 'mission impossible\\n', 'love quotes\\n')"
      ],
      "metadata": {
        "colab": {
          "base_uri": "https://localhost:8080/"
        },
        "id": "JtH1RCAJkqzI",
        "outputId": "d8811906-ca82-4765-a49a-eb1b7191d8ed"
      },
      "execution_count": null,
      "outputs": [
        {
          "output_type": "stream",
          "name": "stdout",
          "text": [
            "avatar\n",
            " prison break\n",
            " mission impossible\n",
            " love quotes\n",
            "\n"
          ]
        }
      ]
    },
    {
      "cell_type": "code",
      "source": [],
      "metadata": {
        "id": "Qdw2ddy6me8p"
      },
      "execution_count": null,
      "outputs": []
    },
    {
      "cell_type": "code",
      "source": [
        "print(\"avater\")\n",
        "print(\"prison breakvater\")\n",
        "print(\"mission impossible\")\n",
        "print(\"love quotes\")"
      ],
      "metadata": {
        "colab": {
          "base_uri": "https://localhost:8080/"
        },
        "id": "kb-mxGXImw1_",
        "outputId": "4322ea6b-aa60-46ea-b4d9-61c2a5c4eec1"
      },
      "execution_count": null,
      "outputs": [
        {
          "output_type": "stream",
          "name": "stdout",
          "text": [
            "avater\n",
            "prison breakvater\n",
            "mission impossible\n",
            "love quotes\n"
          ]
        }
      ]
    }
  ]
}